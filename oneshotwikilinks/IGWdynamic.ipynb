{
 "cells": [
  {
   "cell_type": "markdown",
   "id": "78b84a1d",
   "metadata": {},
   "source": [
    "# Dataset"
   ]
  },
  {
   "cell_type": "code",
   "execution_count": 1,
   "id": "18b279b8",
   "metadata": {
    "code_folding": [
     2,
     31,
     45,
     63,
     81,
     109,
     126
    ]
   },
   "outputs": [],
   "source": [
    "import torch\n",
    "\n",
    "class EasyAcc:\n",
    "    def __init__(self):\n",
    "        self.n = 0\n",
    "        self.sum = 0\n",
    "        self.sumsq = 0\n",
    "\n",
    "    def __iadd__(self, other):\n",
    "        self.n += 1\n",
    "        self.sum += other\n",
    "        self.sumsq += other*other\n",
    "        return self\n",
    "\n",
    "    def __isub__(self, other):\n",
    "        self.n += 1\n",
    "        self.sum -= other\n",
    "        self.sumsq += other*other\n",
    "        return self\n",
    "\n",
    "    def mean(self):\n",
    "        return self.sum / max(self.n, 1)\n",
    "\n",
    "    def var(self):\n",
    "        from math import sqrt\n",
    "        return sqrt(self.sumsq / max(self.n, 1) - self.mean()**2)\n",
    "\n",
    "    def semean(self):\n",
    "        from math import sqrt\n",
    "        return self.var() / sqrt(max(self.n, 1))\n",
    "\n",
    "def categoryCount():\n",
    "    from collections import defaultdict\n",
    "    import gzip\n",
    "    import json\n",
    "        \n",
    "    counts = {}\n",
    "\n",
    "    with gzip.open('entityfreq.gz', 'rt') as f:\n",
    "        for line in f:\n",
    "            try:\n",
    "                freq, entity = line.strip().split()\n",
    "            except:\n",
    "                continue\n",
    "            counts[entity] = int(freq)\n",
    "            \n",
    "    return counts\n",
    "\n",
    "def getCategories(threshold):\n",
    "    from sentence_transformers import SentenceTransformer\n",
    "    import gzip\n",
    "    import json\n",
    "    import re\n",
    "    \n",
    "    model = SentenceTransformer('bert-base-nli-mean-tokens')\n",
    "        \n",
    "    for entity, freq in categoryCount().items():\n",
    "        if freq >= threshold:\n",
    "            niceentity = re.sub(r'_', r' ', entity)\n",
    "            embedcat = model.encode([niceentity])[0]\n",
    "            yield entity, embedcat\n",
    "\n",
    "def datasetStats(threshold):\n",
    "    numclasses = len([ entity for entity, freq in categoryCount().items() if freq >= threshold ])\n",
    "    return { 'numclasses': numclasses, 'numexamples': threshold * numclasses }\n",
    "            \n",
    "def makeData(threshold, categories):\n",
    "    from collections import defaultdict\n",
    "    from sentence_transformers import SentenceTransformer\n",
    "    import json\n",
    "    \n",
    "    model = SentenceTransformer('bert-base-nli-mean-tokens')\n",
    "    catcount = defaultdict(int)\n",
    "    \n",
    "    with open('shuffled_dedup_entities.tsv') as f:\n",
    "        batchline, batchencode, batchentity = [], [], []\n",
    "        for line in f:\n",
    "            try:\n",
    "                entity, pre, mention, post = line.strip().split('\\t')\n",
    "            except:\n",
    "                continue\n",
    "                \n",
    "            if entity in categories and catcount[entity] < threshold:\n",
    "                catcount[entity] += 1\n",
    "                batchline.append(line)\n",
    "                batchencode.append(pre)\n",
    "                batchencode.append(post)\n",
    "                batchentity.append(entity)\n",
    "\n",
    "                if len(batchline) == 5:\n",
    "                    embed = model.encode(batchencode)\n",
    "\n",
    "                    for n, (line, entity) in enumerate(zip(batchline, batchentity)):\n",
    "                        embedpre, embedpost = embed[2*n], embed[2*n+1]\n",
    "                        entityord, entityvec = categories[entity]\n",
    "                        yield { 'line': line, \n",
    "                                'entityord': entityord, \n",
    "                                'entityvec': entityvec,\n",
    "                                'pre': embedpre, \n",
    "                                'post': embedpost }\n",
    "\n",
    "                    batchline, batchencode, batchentity = [], [], []\n",
    "                \n",
    "        if len(batchline):\n",
    "            embed = model.encode(batchencode)\n",
    "\n",
    "            for n, (line, entity) in enumerate(zip(batchline, batchentity)):\n",
    "                embedpre, embedpost = embed[2*n], embed[2*n+1]\n",
    "                entityord, entityvec = categories[entity]\n",
    "                yield { 'line': line, \n",
    "                        'entityord': entityord, \n",
    "                        'entityvec': entityvec,\n",
    "                        'pre': embedpre, \n",
    "                        'post': embedpost }\n",
    "\n",
    "class MyDataset(torch.utils.data.Dataset):\n",
    "    def __init__(self, threshold):\n",
    "        from tqdm.notebook import tqdm\n",
    "        self.labelfeats = { k: (n, v) for n, (k, v) in enumerate(getCategories(threshold)) } \n",
    "        Xs = []\n",
    "        ys = []\n",
    "        for n, what in tqdm(enumerate(makeData(threshold, self.labelfeats))):\n",
    "#             if n >= 1000:\n",
    "#                 break\n",
    "            pre = torch.tensor(what['pre'])\n",
    "            post = torch.tensor(what['post'])\n",
    "            Xs.append(torch.cat((pre, post)).unsqueeze(0))\n",
    "            ys.append(what['entityord'])\n",
    "\n",
    "        self.Xs = torch.cat(Xs, dim=0)\n",
    "        self.ys = torch.LongTensor(ys)\n",
    "            \n",
    "    def __len__(self):\n",
    "        return self.Xs.shape[0]\n",
    "\n",
    "    def __getitem__(self, index):\n",
    "        # Select sample\n",
    "        return self.Xs[index], self.ys[index]"
   ]
  },
  {
   "cell_type": "code",
   "execution_count": 2,
   "id": "f8b1d7b2",
   "metadata": {},
   "outputs": [
    {
     "data": {
      "text/plain": [
       "({'numclasses': 311, 'numexamples': 622000},\n",
       " {'numclasses': 1154, 'numexamples': 1154000},\n",
       " {'numclasses': 14031, 'numexamples': 2806200})"
      ]
     },
     "execution_count": 2,
     "metadata": {},
     "output_type": "execute_result"
    }
   ],
   "source": [
    "datasetStats(2000), datasetStats(1000), datasetStats(200)"
   ]
  },
  {
   "cell_type": "markdown",
   "id": "5fb269bf",
   "metadata": {
    "heading_collapsed": true
   },
   "source": [
    "## This takes time, run once only (days)"
   ]
  },
  {
   "cell_type": "code",
   "execution_count": 3,
   "id": "c7f34662",
   "metadata": {
    "code_folding": [
     0
    ],
    "hidden": true
   },
   "outputs": [
    {
     "data": {
      "application/vnd.jupyter.widget-view+json": {
       "model_id": "3ea60f54206940ea94d9ba331dd3e0e7",
       "version_major": 2,
       "version_minor": 0
      },
      "text/plain": [
       "0it [00:00, ?it/s]"
      ]
     },
     "metadata": {},
     "output_type": "display_data"
    }
   ],
   "source": [
    "def makeMyDataset(threshold):\n",
    "    import gzip\n",
    "    \n",
    "    foo = MyDataset(threshold)\n",
    "    with gzip.open(f'mydataset.{threshold}.pickle.gz', 'wb') as handle:\n",
    "        import pickle\n",
    "        pickle.dump(foo, handle, protocol=pickle.HIGHEST_PROTOCOL)\n",
    "        \n",
    "makeMyDataset(2000)"
   ]
  },
  {
   "cell_type": "markdown",
   "id": "87b2c019",
   "metadata": {},
   "source": [
    "## Load cached processed data"
   ]
  },
  {
   "cell_type": "code",
   "execution_count": 2,
   "id": "f2f8f13c",
   "metadata": {
    "code_folding": [
     0
    ]
   },
   "outputs": [],
   "source": [
    "def loadMyDataset(threshold):\n",
    "    import gzip\n",
    "    \n",
    "    with gzip.open(f'mydataset.{threshold}.pickle.gz', 'rb') as handle:\n",
    "        import pickle\n",
    "        return pickle.load(handle)"
   ]
  },
  {
   "cell_type": "code",
   "execution_count": 3,
   "id": "ebbacba3",
   "metadata": {
    "code_folding": [
     3
    ]
   },
   "outputs": [
    {
     "data": {
      "text/plain": [
       "({'best_constant_answer': 'public_domain',\n",
       "  'best_constant_average_logloss': 5.739792823791504,\n",
       "  'best_constant_average_accuracy': 0.003215434083601286},\n",
       " {'best_constant_answer': 'public_domain',\n",
       "  'best_constant_average_logloss': 7.050989627838135,\n",
       "  'best_constant_average_accuracy': 0.0008665511265164644},\n",
       " {'best_constant_answer': 'weight_gain',\n",
       "  'best_constant_average_logloss': 9.54902458190918,\n",
       "  'best_constant_average_accuracy': 7.127075760815338e-05})"
      ]
     },
     "execution_count": 3,
     "metadata": {},
     "output_type": "execute_result"
    }
   ],
   "source": [
    "# best constant predictor\n",
    "# if you don't beat this, you have a problem\n",
    "\n",
    "def bestconstant(threshold):\n",
    "    from math import fsum\n",
    "    \n",
    "    counts = { k: threshold for k, v in categoryCount().items() if v >= threshold }\n",
    "    sumcounts = fsum(v for v in counts.values())\n",
    "    predict = torch.Tensor([ v / sumcounts for v in counts.values() ]).unsqueeze(0)\n",
    "    log_loss = torch.nn.CrossEntropyLoss()\n",
    "    sumloss, denom = EasyAcc(), 0\n",
    "    \n",
    "    for m, k in enumerate(counts.keys()):\n",
    "        n = counts[k]\n",
    "        actual = torch.LongTensor([m])\n",
    "        sumloss += n * log_loss(predict, actual).item()\n",
    "        denom += n\n",
    "    \n",
    "    return { 'best_constant_answer': max((v, k) for k, v in counts.items())[1], \n",
    "             'best_constant_average_logloss': sumloss.sum / denom,\n",
    "             'best_constant_average_accuracy': max(v for v in counts.values()) / denom }            \n",
    "\n",
    "bestconstant(2000), bestconstant(1000), bestconstant(200)"
   ]
  },
  {
   "cell_type": "code",
   "execution_count": 7,
   "id": "2f6a4ca2",
   "metadata": {
    "code_folding": [
     0,
     35
    ]
   },
   "outputs": [],
   "source": [
    "class ResidualBlock(torch.nn.Module):\n",
    "    def __init__(self, d, device):\n",
    "        super(ResidualBlock, self).__init__()\n",
    "        \n",
    "        self.W = torch.nn.Parameter(torch.zeros(d, d, device=device))\n",
    "        self.afunc = torch.nn.LeakyReLU(negative_slope=0.01, inplace=True)\n",
    "        \n",
    "    def forward(self, X):\n",
    "        return X + 0.001 * self.afunc(torch.matmul(X, self.W))\n",
    "    \n",
    "class BilinearResidual(torch.nn.Module):\n",
    "    def __init__(self, dobs, daction, device, depth):\n",
    "        super(BilinearResidual, self).__init__()\n",
    "        \n",
    "        self.block = torch.nn.Sequential(*[ResidualBlock(dobs, device) for _ in range(depth) ])\n",
    "        self.W = torch.nn.Parameter(torch.zeros(dobs, daction, device=device))\n",
    "        self.sigmoid = torch.nn.Sigmoid()\n",
    "\n",
    "    def forward(self, Xs, Zs):\n",
    "        return torch.matmul(torch.matmul(self.block(Xs), self.W), Zs.T)\n",
    "    \n",
    "    def preq1(self, logits):\n",
    "        return self.sigmoid(logits)\n",
    "\n",
    "class IGW(object):\n",
    "    def __init__(self, gamma):\n",
    "        super(IGW, self).__init__()\n",
    "        \n",
    "        self.gamma = gamma\n",
    "    \n",
    "    def sample(self, fhat):\n",
    "        N, K = fhat.shape\n",
    "        rando = torch.randint(high=K, size=(N, 1), device=fhat.device)\n",
    "        fhatstar, ahatstar = torch.max(fhat, dim=1, keepdim=True)\n",
    "        fhatrando = torch.gather(input=fhat, dim=1, index=rando)\n",
    "        probs = K / (K + self.gamma * (fhatstar - fhatrando))\n",
    "        unif = torch.rand(size=(N, 1), device=fhat.device)\n",
    "        shouldexplore = (unif <= probs).long()\n",
    "        return (ahatstar + shouldexplore * (rando - ahatstar)).squeeze(1)\n",
    "\n",
    "def learnOnline(dataset, rank, initlr, tzero, gamma, depth, cuda=False, seed=4545):\n",
    "    import time\n",
    "    \n",
    "    torch.manual_seed(seed)\n",
    "    labelfeatsdict = { n: v for n, v in dataset.labelfeats.values() }\n",
    "    labelfeats = [ torch.tensor(labelfeatsdict[n]).float().unsqueeze(0) for n in range(len(labelfeatsdict)) ]\n",
    "    Zs = torch.cat(labelfeats, dim=0)\n",
    "    \n",
    "    if cuda:\n",
    "        Zs = Zs.cuda()\n",
    "    \n",
    "    if rank is not None:\n",
    "        with torch.no_grad():\n",
    "            U, S, Vh = torch.linalg.svd(Zs, full_matrices=False)\n",
    "            Zs = U[:, :rank] @ torch.diag(S[:rank])\n",
    "    \n",
    "    generator = torch.utils.data.DataLoader(dataset, batch_size=32, shuffle=True)\n",
    "    model = None\n",
    "    log_loss = torch.nn.BCEWithLogitsLoss()\n",
    "        \n",
    "    print('{:<5s}\\t{:<10s}\\t{:<10s}\\t{:<10s}\\t{:<10s}\\t{:<10s}\\t{:<10s}\\t{:<10s}'.format(\n",
    "            'n', 'loss', 'since last', 'acc', 'since last', 'reward', 'since last', 'dt (sec)'), \n",
    "          flush=True)\n",
    "    avloss, sincelast, acc, accsincelast, avreward, rewardsincelast = [ EasyAcc() for _ in range(6) ]\n",
    "    \n",
    "    for bno, (Xs, ys) in enumerate(generator):\n",
    "        Xs, ys = Xs.to(Zs.device), ys.to(Zs.device)\n",
    "        \n",
    "        if model is None:\n",
    "            import numpy as np\n",
    "            model = BilinearResidual(dobs=Xs.shape[1], daction=Zs.shape[1], depth=depth, device=Zs.device)\n",
    "            sampler = IGW(gamma=gamma)\n",
    "            opt = torch.optim.Adam(( p for p in model.parameters() if p.requires_grad ), lr=initlr)\n",
    "            scheduler = torch.optim.lr_scheduler.LambdaLR(opt, lr_lambda = lambda t: np.sqrt(tzero) / np.sqrt(tzero + t))\n",
    "            start = time.time()\n",
    "            \n",
    "        with torch.no_grad():\n",
    "            fhat = model.preq1(model.forward(0.0001 * Xs, Zs))\n",
    "            sample = sampler.sample(fhat)\n",
    "            reward = (sample == ys).unsqueeze(1).float()\n",
    "            \n",
    "        opt.zero_grad()\n",
    "        logit = model.forward(0.0001 * Xs, Zs)\n",
    "        samplelogit = torch.gather(input=logit, index=sample.unsqueeze(1), dim=1)\n",
    "        loss = log_loss(samplelogit, reward)\n",
    "        loss.backward()\n",
    "        opt.step()\n",
    "        scheduler.step()\n",
    "        \n",
    "        with torch.no_grad():\n",
    "            pred = torch.argmax(logit, dim=1)\n",
    "            acc += torch.mean((pred == ys).float())\n",
    "            accsincelast += torch.mean((pred == ys).float())\n",
    "            avloss += loss\n",
    "            sincelast += loss\n",
    "            avreward += torch.mean(reward)\n",
    "            rewardsincelast += torch.mean(reward)\n",
    "\n",
    "        if bno & (bno - 1) == 0:\n",
    "            now = time.time()\n",
    "            print('{:<5d}\\t{:<10.5f}\\t{:<10.5f}\\t{:<10.5f}\\t{:<10.5f}\\t{:<10.5f}\\t{:<10.5f}\\t{:<10.5f}'.format(\n",
    "                    avloss.n, avloss.mean(), sincelast.mean(), acc.mean(), \n",
    "                    accsincelast.mean(), avreward.mean(), rewardsincelast.mean(),\n",
    "                    now - start),\n",
    "                  flush=True)\n",
    "            sincelast, accsincelast, rewardsincelast = [ EasyAcc() for _ in range(3) ]\n",
    "\n",
    "    now = time.time()\n",
    "    print('{:<5d}\\t{:<10.5f}\\t{:<10.5f}\\t{:<10.5f}\\t{:<10.5f}\\t{:<10.5f}\\t{:<10.5f}\\t{:<10.5f}'.format(\n",
    "            avloss.n, avloss.mean(), sincelast.mean(), acc.mean(), \n",
    "            accsincelast.mean(), avreward.mean(), rewardsincelast.mean(),\n",
    "            now - start),\n",
    "          flush=True)"
   ]
  },
  {
   "cell_type": "code",
   "execution_count": 4,
   "id": "e0372c52",
   "metadata": {},
   "outputs": [],
   "source": [
    "mydata = loadMyDataset(2000)"
   ]
  },
  {
   "cell_type": "code",
   "execution_count": 8,
   "id": "95d9cb8c",
   "metadata": {},
   "outputs": [
    {
     "name": "stdout",
     "output_type": "stream",
     "text": [
      "n    \tloss      \tsince last\tacc       \tsince last\treward    \tsince last\tdt (sec)  \n",
      "1    \t0.69315   \t0.69315   \t0.03125   \t0.03125   \t0.00000   \t0.00000   \t0.86720   \n",
      "2    \t0.69364   \t0.69414   \t0.01562   \t0.00000   \t0.00000   \t0.00000   \t0.88271   \n",
      "3    \t0.68031   \t0.65364   \t0.01042   \t0.00000   \t0.00000   \t0.00000   \t0.90128   \n",
      "5    \t0.65222   \t0.61008   \t0.00625   \t0.00000   \t0.00000   \t0.00000   \t0.93456   \n",
      "9    \t0.51577   \t0.34521   \t0.00347   \t0.00000   \t0.00000   \t0.00000   \t0.99553   \n",
      "17   \t0.30710   \t0.07235   \t0.00368   \t0.00391   \t0.00184   \t0.00391   \t1.12209   \n",
      "33   \t0.17406   \t0.03270   \t0.00284   \t0.00195   \t0.00284   \t0.00391   \t1.36170   \n",
      "65   \t0.11507   \t0.05424   \t0.00337   \t0.00391   \t0.00433   \t0.00586   \t1.84062   \n",
      "129  \t0.07087   \t0.02597   \t0.00291   \t0.00244   \t0.00363   \t0.00293   \t2.82125   \n",
      "257  \t0.04604   \t0.02101   \t0.00340   \t0.00391   \t0.00328   \t0.00293   \t4.77706   \n",
      "513  \t0.03615   \t0.02622   \t0.00396   \t0.00452   \t0.00317   \t0.00305   \t8.74263   \n",
      "1025 \t0.03630   \t0.03644   \t0.00695   \t0.00995   \t0.00555   \t0.00793   \t16.50962  \n",
      "2049 \t0.05444   \t0.07260   \t0.01989   \t0.03284   \t0.01542   \t0.02530   \t32.00212  \n",
      "4097 \t0.09944   \t0.14447   \t0.04606   \t0.07225   \t0.03712   \t0.05884   \t64.28811  \n",
      "8193 \t0.18387   \t0.26832   \t0.09517   \t0.14428   \t0.08138   \t0.12565   \t127.53421 \n",
      "16385\t0.25990   \t0.33595   \t0.14543   \t0.19570   \t0.12813   \t0.17488   \t254.90010 \n",
      "19438\t0.27543   \t0.35874   \t0.15634   \t0.21487   \t0.13858   \t0.19467   \t302.85318 \n"
     ]
    }
   ],
   "source": [
    "learnOnline(mydata, initlr=0.33, tzero=100000, rank=50, gamma=14000, depth=1)"
   ]
  },
  {
   "cell_type": "code",
   "execution_count": 9,
   "id": "e25cff1b",
   "metadata": {},
   "outputs": [
    {
     "name": "stdout",
     "output_type": "stream",
     "text": [
      "n    \tloss      \tsince last\tacc       \tsince last\treward    \tsince last\tdt (sec)  \n",
      "1    \t0.69315   \t0.69315   \t0.03125   \t0.03125   \t0.00000   \t0.00000   \t0.02905   \n",
      "2    \t0.69364   \t0.69414   \t0.01562   \t0.00000   \t0.00000   \t0.00000   \t0.05784   \n",
      "3    \t0.68027   \t0.65353   \t0.01042   \t0.00000   \t0.00000   \t0.00000   \t0.08494   \n",
      "5    \t0.64866   \t0.60125   \t0.00625   \t0.00000   \t0.00000   \t0.00000   \t0.13879   \n",
      "9    \t0.48027   \t0.26978   \t0.00347   \t0.00000   \t0.00000   \t0.00000   \t0.24814   \n",
      "17   \t0.25865   \t0.00932   \t0.00368   \t0.00391   \t0.00000   \t0.00000   \t0.49128   \n",
      "33   \t0.16895   \t0.07366   \t0.00379   \t0.00391   \t0.00189   \t0.00391   \t0.93409   \n",
      "65   \t0.10902   \t0.04721   \t0.00288   \t0.00195   \t0.00288   \t0.00391   \t1.81534   \n",
      "129  \t0.07107   \t0.03253   \t0.00291   \t0.00293   \t0.00339   \t0.00391   \t3.59123   \n",
      "257  \t0.04770   \t0.02414   \t0.00389   \t0.00488   \t0.00340   \t0.00342   \t7.55403   \n",
      "513  \t0.03884   \t0.02994   \t0.00554   \t0.00720   \t0.00390   \t0.00439   \t16.91662  \n",
      "1025 \t0.04062   \t0.04240   \t0.00866   \t0.01178   \t0.00637   \t0.00885   \t31.55854  \n",
      "2049 \t0.05706   \t0.07352   \t0.02013   \t0.03162   \t0.01460   \t0.02283   \t60.94349  \n",
      "4097 \t0.10477   \t0.15250   \t0.04569   \t0.07126   \t0.03554   \t0.05649   \t118.77345 \n",
      "8193 \t0.18671   \t0.26867   \t0.09303   \t0.14038   \t0.07833   \t0.12113   \t235.15405 \n",
      "16385\t0.26102   \t0.33533   \t0.14151   \t0.19000   \t0.12413   \t0.16994   \t466.12308 \n",
      "19438\t0.27565   \t0.35421   \t0.15198   \t0.20818   \t0.13402   \t0.18710   \t552.63014 \n"
     ]
    }
   ],
   "source": [
    "learnOnline(mydata, initlr=0.33, tzero=100000, rank=50, gamma=14000, depth=2)"
   ]
  },
  {
   "cell_type": "code",
   "execution_count": null,
   "id": "644b67dd",
   "metadata": {},
   "outputs": [],
   "source": []
  }
 ],
 "metadata": {
  "kernelspec": {
   "display_name": "Python 3.8 - PyTorch",
   "language": "python",
   "name": "azureml_py38_pytorch"
  },
  "language_info": {
   "codemirror_mode": {
    "name": "ipython",
    "version": 3
   },
   "file_extension": ".py",
   "mimetype": "text/x-python",
   "name": "python",
   "nbconvert_exporter": "python",
   "pygments_lexer": "ipython3",
   "version": "3.8.1"
  }
 },
 "nbformat": 4,
 "nbformat_minor": 5
}
