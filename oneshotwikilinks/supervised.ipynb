{
 "cells": [
  {
   "cell_type": "markdown",
   "id": "78b84a1d",
   "metadata": {},
   "source": [
    "# Dataset"
   ]
  },
  {
   "cell_type": "code",
   "execution_count": 1,
   "id": "18b279b8",
   "metadata": {
    "code_folding": [
     2,
     31,
     45,
     63,
     81,
     109,
     126
    ]
   },
   "outputs": [],
   "source": [
    "import torch\n",
    "\n",
    "class EasyAcc:\n",
    "    def __init__(self):\n",
    "        self.n = 0\n",
    "        self.sum = 0\n",
    "        self.sumsq = 0\n",
    "\n",
    "    def __iadd__(self, other):\n",
    "        self.n += 1\n",
    "        self.sum += other\n",
    "        self.sumsq += other*other\n",
    "        return self\n",
    "\n",
    "    def __isub__(self, other):\n",
    "        self.n += 1\n",
    "        self.sum -= other\n",
    "        self.sumsq += other*other\n",
    "        return self\n",
    "\n",
    "    def mean(self):\n",
    "        return self.sum / max(self.n, 1)\n",
    "\n",
    "    def var(self):\n",
    "        from math import sqrt\n",
    "        return sqrt(self.sumsq / max(self.n, 1) - self.mean()**2)\n",
    "\n",
    "    def semean(self):\n",
    "        from math import sqrt\n",
    "        return self.var() / sqrt(max(self.n, 1))\n",
    "\n",
    "def categoryCount():\n",
    "    from collections import defaultdict\n",
    "    import gzip\n",
    "    import json\n",
    "        \n",
    "    counts = {}\n",
    "\n",
    "    with gzip.open('entityfreq.gz', 'rt') as f:\n",
    "        for line in f:\n",
    "            try:\n",
    "                freq, entity = line.strip().split()\n",
    "            except:\n",
    "                continue\n",
    "            counts[entity] = int(freq)\n",
    "            \n",
    "    return counts\n",
    "\n",
    "def getCategories(threshold):\n",
    "    from sentence_transformers import SentenceTransformer\n",
    "    import gzip\n",
    "    import json\n",
    "    import re\n",
    "    \n",
    "    model = SentenceTransformer('bert-base-nli-mean-tokens')\n",
    "        \n",
    "    for entity, freq in categoryCount().items():\n",
    "        if freq >= threshold:\n",
    "            niceentity = re.sub(r'_', r' ', entity)\n",
    "            embedcat = model.encode([niceentity])[0]\n",
    "            yield entity, embedcat\n",
    "\n",
    "def datasetStats(threshold):\n",
    "    numclasses = len([ entity for entity, freq in categoryCount().items() if freq >= threshold ])\n",
    "    return { 'numclasses': numclasses, 'numexamples': threshold * numclasses }\n",
    "            \n",
    "def makeData(threshold, categories):\n",
    "    from collections import defaultdict\n",
    "    from sentence_transformers import SentenceTransformer\n",
    "    import json\n",
    "    \n",
    "    model = SentenceTransformer('bert-base-nli-mean-tokens')\n",
    "    catcount = defaultdict(int)\n",
    "    \n",
    "    with open('shuffled_dedup_entities.tsv') as f:\n",
    "        batchline, batchencode, batchentity = [], [], []\n",
    "        for line in f:\n",
    "            try:\n",
    "                entity, pre, mention, post = line.strip().split('\\t')\n",
    "            except:\n",
    "                continue\n",
    "                \n",
    "            if entity in categories and catcount[entity] < threshold:\n",
    "                catcount[entity] += 1\n",
    "                batchline.append(line)\n",
    "                batchencode.append(pre)\n",
    "                batchencode.append(post)\n",
    "                batchentity.append(entity)\n",
    "\n",
    "                if len(batchline) == 5:\n",
    "                    embed = model.encode(batchencode)\n",
    "\n",
    "                    for n, (line, entity) in enumerate(zip(batchline, batchentity)):\n",
    "                        embedpre, embedpost = embed[2*n], embed[2*n+1]\n",
    "                        entityord, entityvec = categories[entity]\n",
    "                        yield { 'line': line, \n",
    "                                'entityord': entityord, \n",
    "                                'entityvec': entityvec,\n",
    "                                'pre': embedpre, \n",
    "                                'post': embedpost }\n",
    "\n",
    "                    batchline, batchencode, batchentity = [], [], []\n",
    "                \n",
    "        if len(batchline):\n",
    "            embed = model.encode(batchencode)\n",
    "\n",
    "            for n, (line, entity) in enumerate(zip(batchline, batchentity)):\n",
    "                embedpre, embedpost = embed[2*n], embed[2*n+1]\n",
    "                entityord, entityvec = categories[entity]\n",
    "                yield { 'line': line, \n",
    "                        'entityord': entityord, \n",
    "                        'entityvec': entityvec,\n",
    "                        'pre': embedpre, \n",
    "                        'post': embedpost }\n",
    "\n",
    "class MyDataset(torch.utils.data.Dataset):\n",
    "    def __init__(self, threshold):\n",
    "        from tqdm.notebook import tqdm\n",
    "        self.labelfeats = { k: (n, v) for n, (k, v) in enumerate(getCategories(threshold)) } \n",
    "        Xs = []\n",
    "        ys = []\n",
    "        for n, what in tqdm(enumerate(makeData(threshold, self.labelfeats))):\n",
    "#             if n >= 1000:\n",
    "#                 break\n",
    "            pre = torch.tensor(what['pre'])\n",
    "            post = torch.tensor(what['post'])\n",
    "            Xs.append(torch.cat((pre, post)).unsqueeze(0))\n",
    "            ys.append(what['entityord'])\n",
    "\n",
    "        self.Xs = torch.cat(Xs, dim=0)\n",
    "        self.ys = torch.LongTensor(ys)\n",
    "            \n",
    "    def __len__(self):\n",
    "        return self.Xs.shape[0]\n",
    "\n",
    "    def __getitem__(self, index):\n",
    "        # Select sample\n",
    "        return self.Xs[index], self.ys[index]"
   ]
  },
  {
   "cell_type": "code",
   "execution_count": 2,
   "id": "f8b1d7b2",
   "metadata": {},
   "outputs": [
    {
     "data": {
      "text/plain": [
       "({'numclasses': 311, 'numexamples': 622000},\n",
       " {'numclasses': 1154, 'numexamples': 1154000},\n",
       " {'numclasses': 14031, 'numexamples': 2806200})"
      ]
     },
     "execution_count": 2,
     "metadata": {},
     "output_type": "execute_result"
    }
   ],
   "source": [
    "datasetStats(2000), datasetStats(1000), datasetStats(200)"
   ]
  },
  {
   "cell_type": "markdown",
   "id": "d525057b",
   "metadata": {
    "heading_collapsed": true
   },
   "source": [
    "## This takes time, run once only (days)"
   ]
  },
  {
   "cell_type": "code",
   "execution_count": 3,
   "id": "c7f34662",
   "metadata": {
    "code_folding": [
     0
    ],
    "hidden": true
   },
   "outputs": [
    {
     "data": {
      "application/vnd.jupyter.widget-view+json": {
       "model_id": "3ea60f54206940ea94d9ba331dd3e0e7",
       "version_major": 2,
       "version_minor": 0
      },
      "text/plain": [
       "0it [00:00, ?it/s]"
      ]
     },
     "metadata": {},
     "output_type": "display_data"
    }
   ],
   "source": [
    "def makeMyDataset(threshold):\n",
    "    import gzip\n",
    "    \n",
    "    foo = MyDataset(threshold)\n",
    "    with gzip.open(f'mydataset.{threshold}.pickle.gz', 'wb') as handle:\n",
    "        import pickle\n",
    "        pickle.dump(foo, handle, protocol=pickle.HIGHEST_PROTOCOL)\n",
    "        \n",
    "makeMyDataset(2000)"
   ]
  },
  {
   "cell_type": "markdown",
   "id": "87b2c019",
   "metadata": {},
   "source": [
    "## Load cached processed data"
   ]
  },
  {
   "cell_type": "code",
   "execution_count": 2,
   "id": "f2f8f13c",
   "metadata": {
    "code_folding": [
     0
    ]
   },
   "outputs": [],
   "source": [
    "def loadMyDataset(threshold):\n",
    "    import gzip\n",
    "    \n",
    "    with gzip.open(f'mydataset.{threshold}.pickle.gz', 'rb') as handle:\n",
    "        import pickle\n",
    "        return pickle.load(handle)"
   ]
  },
  {
   "cell_type": "code",
   "execution_count": 3,
   "id": "ebbacba3",
   "metadata": {
    "code_folding": [
     3
    ]
   },
   "outputs": [
    {
     "data": {
      "text/plain": [
       "({'best_constant_answer': 'public_domain',\n",
       "  'best_constant_average_logloss': 5.739792823791504,\n",
       "  'best_constant_average_accuracy': 0.003215434083601286},\n",
       " {'best_constant_answer': 'public_domain',\n",
       "  'best_constant_average_logloss': 7.050989627838135,\n",
       "  'best_constant_average_accuracy': 0.0008665511265164644},\n",
       " {'best_constant_answer': 'weight_gain',\n",
       "  'best_constant_average_logloss': 9.54902458190918,\n",
       "  'best_constant_average_accuracy': 7.127075760815338e-05})"
      ]
     },
     "execution_count": 3,
     "metadata": {},
     "output_type": "execute_result"
    }
   ],
   "source": [
    "# best constant predictor\n",
    "# if you don't beat this, you have a problem\n",
    "\n",
    "def bestconstant(threshold):\n",
    "    from math import fsum\n",
    "    \n",
    "    counts = { k: threshold for k, v in categoryCount().items() if v >= threshold }\n",
    "    sumcounts = fsum(v for v in counts.values())\n",
    "    predict = torch.Tensor([ v / sumcounts for v in counts.values() ]).unsqueeze(0)\n",
    "    log_loss = torch.nn.CrossEntropyLoss()\n",
    "    sumloss, denom = EasyAcc(), 0\n",
    "    \n",
    "    for m, k in enumerate(counts.keys()):\n",
    "        n = counts[k]\n",
    "        actual = torch.LongTensor([m])\n",
    "        sumloss += n * log_loss(predict, actual).item()\n",
    "        denom += n\n",
    "    \n",
    "    return { 'best_constant_answer': max((v, k) for k, v in counts.items())[1], \n",
    "             'best_constant_average_logloss': sumloss.sum / denom,\n",
    "             'best_constant_average_accuracy': max(v for v in counts.values()) / denom }            \n",
    "\n",
    "bestconstant(2000), bestconstant(1000), bestconstant(200)"
   ]
  },
  {
   "cell_type": "code",
   "execution_count": 5,
   "id": "2f6a4ca2",
   "metadata": {
    "code_folding": [
     0,
     35
    ]
   },
   "outputs": [],
   "source": [
    "class Bilinear(torch.nn.Module):\n",
    "    def __init__(self, dobs, daction, naction):\n",
    "        super(Bilinear, self).__init__()\n",
    "        \n",
    "        self.W = torch.nn.Parameter(torch.zeros(dobs, daction))\n",
    "\n",
    "    def forward(self, Xs, Zs):\n",
    "        return torch.matmul(torch.matmul(Xs, self.W), Zs.T)\n",
    "\n",
    "def learnOnline(dataset, seed=4545, initlr=2e-1, tzero=200, rank=None):\n",
    "    torch.manual_seed(seed)\n",
    "    labelfeatsdict = { n: v for n, v in dataset.labelfeats.values() }\n",
    "    labelfeats = [ torch.tensor(labelfeatsdict[n]).float().unsqueeze(0) for n in range(len(labelfeatsdict)) ]\n",
    "    Zs = torch.cat(labelfeats, dim=0)\n",
    "    \n",
    "    if rank is not None:\n",
    "        with torch.no_grad():\n",
    "            U, S, Vh = torch.linalg.svd(Zs, full_matrices=False)\n",
    "            Zs = U[:, :rank] @ torch.diag(S[:rank])\n",
    "        \n",
    "    generator = torch.utils.data.DataLoader(dataset, batch_size=32, shuffle=True)\n",
    "    model = None\n",
    "    log_loss = torch.nn.CrossEntropyLoss()\n",
    "    \n",
    "    print('{:<5s}\\t{:<8s}\\t{:<8s}\\t{:<8s}\\t{:<8s}'.format('n', 'loss', 'since last', 'acc', 'acc since last'), flush=True)\n",
    "    avloss, acc, sincelast, accsincelast = EasyAcc(), EasyAcc(), EasyAcc(), EasyAcc()\n",
    "    \n",
    "    for bno, (Xs, ys) in enumerate(generator):\n",
    "        if model is None:\n",
    "            import numpy as np\n",
    "            model = Bilinear(dobs=Xs.shape[1], daction=Zs.shape[1], naction=Zs.shape[0])\n",
    "            opt = torch.optim.Adam(( p for p in model.parameters() if p.requires_grad ), lr=initlr)\n",
    "            scheduler = torch.optim.lr_scheduler.LambdaLR(opt, lr_lambda = lambda t: np.sqrt(tzero) / np.sqrt(tzero + t))\n",
    "\n",
    "        opt.zero_grad()\n",
    "        score = model.forward(0.0001 * Xs, Zs)\n",
    "        loss = log_loss(score, ys)\n",
    "        loss.backward()\n",
    "        opt.step()\n",
    "        scheduler.step()\n",
    "        \n",
    "        with torch.no_grad():\n",
    "            pred = torch.argmax(score, dim=1)\n",
    "            acc += torch.mean((pred == ys).float())\n",
    "            accsincelast += torch.mean((pred == ys).float())\n",
    "            avloss += loss\n",
    "            sincelast += loss\n",
    "\n",
    "        if bno & (bno - 1) == 0:\n",
    "            print('{:<5d}\\t{:<8.5f}\\t{:<8.5f}\\t{:<8.5f}\\t{:<8.5f}'.format(avloss.n, avloss.mean(), sincelast.mean(), acc.mean(), accsincelast.mean()), flush=True)\n",
    "            sincelast, accsincelast = EasyAcc(), EasyAcc()\n",
    "\n",
    "    print('{:<5d}\\t{:<8.5f}\\t{:<8.5f}\\t{:<8.5f}\\t{:<8.5f}'.format(avloss.n, avloss.mean(), sincelast.mean(), acc.mean(), accsincelast.mean()), flush=True)"
   ]
  },
  {
   "cell_type": "code",
   "execution_count": 4,
   "id": "b396d3fa",
   "metadata": {},
   "outputs": [],
   "source": [
    "mydata = loadMyDataset(2000)"
   ]
  },
  {
   "cell_type": "code",
   "execution_count": 4,
   "id": "e947df90",
   "metadata": {},
   "outputs": [
    {
     "name": "stdout",
     "output_type": "stream",
     "text": [
      "n    \tloss    \tsince last\tacc     \tacc since last\n",
      "1    \t5.73979 \t5.73979 \t0.03125 \t0.03125 \n",
      "2    \t5.74189 \t5.74398 \t0.04688 \t0.06250 \n",
      "3    \t5.75276 \t5.77451 \t0.03125 \t0.00000 \n",
      "5    \t5.68035 \t5.57173 \t0.01875 \t0.00000 \n",
      "9    \t5.60537 \t5.51164 \t0.03125 \t0.04688 \n",
      "17   \t5.47308 \t5.32425 \t0.03125 \t0.03125 \n",
      "33   \t5.19774 \t4.90520 \t0.03883 \t0.04688 \n",
      "65   \t4.87412 \t4.54038 \t0.06154 \t0.08496 \n",
      "129  \t4.56322 \t4.24746 \t0.09278 \t0.12451 \n",
      "257  \t4.28451 \t4.00364 \t0.12524 \t0.15796 \n",
      "513  \t4.04570 \t3.80595 \t0.15722 \t0.18933 \n",
      "1025 \t3.83418 \t3.62225 \t0.18427 \t0.21136 \n",
      "2049 \t3.67436 \t3.51437 \t0.20446 \t0.22467 \n",
      "4097 \t3.54882 \t3.42322 \t0.22160 \t0.23875 \n",
      "8193 \t3.44915 \t3.34948 \t0.23554 \t0.24947 \n",
      "16385\t3.36143 \t3.27368 \t0.24843 \t0.26132 \n",
      "19438\t3.34360 \t3.24788 \t0.25124 \t0.26634 \n"
     ]
    }
   ],
   "source": [
    "learnOnline(mydata, initlr=1.6, rank=50)"
   ]
  },
  {
   "cell_type": "code",
   "execution_count": 4,
   "id": "52c3b022",
   "metadata": {},
   "outputs": [],
   "source": [
    "mydata = loadMyDataset(1000)"
   ]
  },
  {
   "cell_type": "code",
   "execution_count": 6,
   "id": "15cb7e7e",
   "metadata": {},
   "outputs": [
    {
     "name": "stdout",
     "output_type": "stream",
     "text": [
      "n    \tloss    \tsince last\tacc     \tacc since last\n",
      "1    \t7.05099 \t7.05099 \t0.00000 \t0.00000 \n",
      "2    \t7.03190 \t7.01281 \t0.00000 \t0.00000 \n",
      "3    \t7.04831 \t7.08113 \t0.00000 \t0.00000 \n",
      "5    \t7.04976 \t7.05195 \t0.00000 \t0.00000 \n",
      "9    \t6.96595 \t6.86118 \t0.00347 \t0.00781 \n",
      "17   \t6.87694 \t6.77679 \t0.00735 \t0.01172 \n",
      "33   \t6.70233 \t6.51681 \t0.01042 \t0.01367 \n",
      "65   \t6.45273 \t6.19534 \t0.02067 \t0.03125 \n",
      "129  \t6.11979 \t5.78165 \t0.03464 \t0.04883 \n",
      "257  \t5.81036 \t5.49852 \t0.04815 \t0.06177 \n",
      "513  \t5.51839 \t5.22528 \t0.06335 \t0.07861 \n",
      "1025 \t5.28478 \t5.05070 \t0.07966 \t0.09601 \n",
      "2049 \t5.10783 \t4.93069 \t0.09255 \t0.10544 \n",
      "4097 \t4.96485 \t4.82180 \t0.10396 \t0.11537 \n",
      "8193 \t4.85280 \t4.74070 \t0.11337 \t0.12280 \n",
      "16385\t4.76203 \t4.67124 \t0.12150 \t0.12963 \n",
      "32769\t4.69070 \t4.61934 \t0.12856 \t0.13561 \n",
      "36063\t4.68256 \t4.60159 \t0.12936 \t0.13735 \n"
     ]
    }
   ],
   "source": [
    "learnOnline(mydata, initlr=8e-1, tzero=400, rank=50)"
   ]
  },
  {
   "cell_type": "code",
   "execution_count": null,
   "id": "26c06286",
   "metadata": {},
   "outputs": [],
   "source": []
  }
 ],
 "metadata": {
  "kernelspec": {
   "display_name": "Python 3.8 - PyTorch",
   "language": "python",
   "name": "azureml_py38_pytorch"
  },
  "language_info": {
   "codemirror_mode": {
    "name": "ipython",
    "version": 3
   },
   "file_extension": ".py",
   "mimetype": "text/x-python",
   "name": "python",
   "nbconvert_exporter": "python",
   "pygments_lexer": "ipython3",
   "version": "3.8.1"
  }
 },
 "nbformat": 4,
 "nbformat_minor": 5
}
